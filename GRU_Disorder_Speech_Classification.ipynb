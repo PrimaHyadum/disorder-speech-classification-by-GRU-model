{
 "cells": [
  {
   "cell_type": "code",
   "execution_count": 18,
   "metadata": {},
   "outputs": [],
   "source": [
    "import os\n",
    "import librosa\n",
    "import numpy as np\n",
    "import librosa.display\n",
    "import torch\n",
    "from torch.utils.data import DataLoader, Dataset\n",
    "import torch.nn as nn\n",
    "import torch.optim as optim\n",
    "from sklearn.model_selection import train_test_split\n",
    "from sklearn.metrics import precision_score, f1_score, roc_auc_score"
   ]
  },
  {
   "cell_type": "code",
   "execution_count": 2,
   "metadata": {},
   "outputs": [],
   "source": [
    "def audio_fixer(files_path):\n",
    "    zcr_list = []\n",
    "    for path in files_path:\n",
    "        audio_data, _ = librosa.load(path)\n",
    "        if len(audio_data) == 0:\n",
    "            continue\n",
    "        zcr = librosa.feature.zero_crossing_rate(audio_data)\n",
    "        zcr_list.append(zcr)\n",
    "\n",
    "    return zcr_list.copy()"
   ]
  },
  {
   "cell_type": "code",
   "execution_count": 3,
   "metadata": {},
   "outputs": [],
   "source": [
    "disorder_speech_folder = 'C:/Users/Работяга/Desktop/disorder voices speech/Dataset/Disorder Voices/Disorder Voices'\n",
    "healthy_speech_folder = 'C:/Users/Работяга/Desktop/disorder voices speech/Dataset/Normal Voices/Normal Voices'"
   ]
  },
  {
   "cell_type": "code",
   "execution_count": 4,
   "metadata": {},
   "outputs": [],
   "source": [
    "all_healthy_files_path = [os.path.join(healthy_speech_folder, f) for f in os.listdir(healthy_speech_folder) if f.endswith('.wav')]\n",
    "all_disorder_files_path = [os.path.join(disorder_speech_folder, f) for f in os.listdir(disorder_speech_folder) if f.endswith('.wav')]"
   ]
  },
  {
   "cell_type": "code",
   "execution_count": 5,
   "metadata": {},
   "outputs": [],
   "source": [
    "zcr_healthy = audio_fixer(all_healthy_files_path)"
   ]
  },
  {
   "cell_type": "code",
   "execution_count": 6,
   "metadata": {},
   "outputs": [],
   "source": [
    "zcr_disorder = audio_fixer(all_disorder_files_path)"
   ]
  },
  {
   "cell_type": "code",
   "execution_count": 7,
   "metadata": {},
   "outputs": [],
   "source": [
    "def dataset_fixer(data):\n",
    "    max_len = 0\n",
    "    for i in data:\n",
    "        data_len = len(i[0])\n",
    "        if data_len > max_len:\n",
    "            max_len = data_len\n",
    "    new_dataset = []\n",
    "    for i in data:\n",
    "        zeros_to_append = max_len - len(i[0])\n",
    "        if zeros_to_append != 0:\n",
    "            zeros = np.zeros(zeros_to_append, dtype=np.float64)\n",
    "            new_dataset.append(np.copy(np.hstack([i[0], zeros])))\n",
    "        else:\n",
    "            new_dataset.append(np.copy(i[0]))\n",
    "    return new_dataset"
   ]
  },
  {
   "cell_type": "code",
   "execution_count": 8,
   "metadata": {},
   "outputs": [],
   "source": [
    "# Метки данных\n",
    "labels_healthy = torch.zeros(len(zcr_healthy), dtype=torch.long)  # 0 для здоровых\n",
    "labels_disorder = torch.ones(len(zcr_disorder), dtype=torch.long)  # 1 для больных\n",
    "\n",
    "# Объединение данных и меток\n",
    "dataset = zcr_healthy + zcr_disorder\n",
    "labels = torch.cat((labels_healthy, labels_disorder))\n",
    "\n",
    "dataset = dataset_fixer(dataset)\n",
    "\n",
    "train_dataset, test_dataset, train_labels, test_labels = train_test_split(dataset, labels, test_size=0.2, random_state=42)"
   ]
  },
  {
   "cell_type": "code",
   "execution_count": 9,
   "metadata": {},
   "outputs": [],
   "source": [
    "train_dataset = [torch.tensor(data, dtype=torch.float32) for data in train_dataset]\n",
    "test_dataset = [torch.tensor(data, dtype=torch.float32) for data in test_dataset]"
   ]
  },
  {
   "cell_type": "code",
   "execution_count": 10,
   "metadata": {},
   "outputs": [],
   "source": [
    "# Определяем кастомный Dataset\n",
    "class CustomDataset(Dataset):\n",
    "    def __init__(self, data, labels):\n",
    "        self.data = data\n",
    "        self.labels = labels\n",
    "\n",
    "    def __len__(self):\n",
    "        return len(self.data)\n",
    "\n",
    "    def __getitem__(self, idx):\n",
    "        return self.data[idx], self.labels[idx]\n",
    "\n",
    "# Создаем экземпляры Dataset для тренировки и тестирования\n",
    "train_data = CustomDataset(train_dataset, train_labels)\n",
    "test_data = CustomDataset(test_dataset, test_labels)"
   ]
  },
  {
   "cell_type": "code",
   "execution_count": 11,
   "metadata": {},
   "outputs": [],
   "source": [
    "# Создаем DataLoader для тренировки и тестирования\n",
    "train_loader = DataLoader(train_data, batch_size=32, shuffle=True)\n",
    "test_loader = DataLoader(test_data, batch_size=32, shuffle=True)"
   ]
  },
  {
   "cell_type": "code",
   "execution_count": 12,
   "metadata": {},
   "outputs": [],
   "source": [
    "# GRU Model\n",
    "class GRUModel(nn.Module):\n",
    "    def __init__(self, input_size, hidden_size, output_size, num_layers=1):\n",
    "        super(GRUModel, self).__init__()\n",
    "        self.hidden_size = hidden_size\n",
    "        self.num_layers = num_layers\n",
    "        self.gru = nn.GRU(input_size, hidden_size, num_layers, batch_first=True)\n",
    "        self.fc = nn.Linear(hidden_size, output_size)\n",
    "\n",
    "    def forward(self, x):\n",
    "        h0 = torch.zeros(self.num_layers, x.size(0), self.hidden_size).to(x.device)\n",
    "        out, _ = self.gru(x, h0)\n",
    "        out = self.fc(out[:, -1, :])\n",
    "        return out"
   ]
  },
  {
   "cell_type": "code",
   "execution_count": 21,
   "metadata": {},
   "outputs": [],
   "source": [
    "# Model parameters\n",
    "input_size = len(train_dataset[0])  # Input size should be the number of features\n",
    "hidden_size = 128\n",
    "output_size = 2\n",
    "num_layers = 2\n",
    "\n",
    "# Initialize model, loss function, and optimizer\n",
    "model = GRUModel(input_size, hidden_size, output_size, num_layers)\n",
    "criterion = nn.CrossEntropyLoss()\n",
    "optimizer = optim.Adam(model.parameters(), lr=0.001)\n",
    "\n",
    "device = torch.device('cuda' if torch.cuda.is_available() else 'cpu')\n",
    "model.to(device)\n",
    "# Train the model\n",
    "def train_model(model, train_loader, criterion, optimizer, num_epochs=10):\n",
    "    model.train()\n",
    "    for epoch in range(num_epochs):\n",
    "        for data, labels in train_loader:\n",
    "            data, labels = data.to(device), labels.to(device)\n",
    "            data = data.unsqueeze(1)  # Add batch dimension: (batch_size, sequence_length, input_size)\n",
    "            outputs = model(data)\n",
    "            loss = criterion(outputs, labels)\n",
    "\n",
    "            optimizer.zero_grad()\n",
    "            loss.backward()\n",
    "            optimizer.step()\n",
    "\n",
    "        print(f'Epoch [{epoch+1}/{num_epochs}], Loss: {loss.item():.4f}')\n"
   ]
  },
  {
   "cell_type": "code",
   "execution_count": 22,
   "metadata": {},
   "outputs": [
    {
     "name": "stdout",
     "output_type": "stream",
     "text": [
      "Epoch [1/10], Loss: 0.2942\n",
      "Epoch [2/10], Loss: 0.1315\n",
      "Epoch [3/10], Loss: 0.0302\n",
      "Epoch [4/10], Loss: 0.0294\n",
      "Epoch [5/10], Loss: 0.1075\n",
      "Epoch [6/10], Loss: 0.0814\n",
      "Epoch [7/10], Loss: 0.0163\n",
      "Epoch [8/10], Loss: 0.1335\n",
      "Epoch [9/10], Loss: 0.0079\n",
      "Epoch [10/10], Loss: 0.0012\n"
     ]
    }
   ],
   "source": [
    "# Train and evaluate\n",
    "train_model(model, train_loader, criterion, optimizer)"
   ]
  },
  {
   "cell_type": "code",
   "execution_count": 23,
   "metadata": {},
   "outputs": [],
   "source": [
    "def evaluate_model(model, test_loader, device):\n",
    "    model.eval()\n",
    "    correct = 0\n",
    "    total = 0\n",
    "    all_labels = []\n",
    "    all_predictions = []\n",
    "    all_probabilities = []\n",
    "\n",
    "    with torch.no_grad():\n",
    "        for data, labels in test_loader:\n",
    "            data, labels = data.to(device), labels.to(device)\n",
    "            data = data.unsqueeze(1)  # Add batch dimension: (batch_size, sequence_length, input_size)\n",
    "            outputs = model(data)\n",
    "            _, predicted = torch.max(outputs.data, 1)\n",
    "            \n",
    "            # Collect all predictions and labels\n",
    "            all_labels.extend(labels.cpu().numpy())\n",
    "            all_predictions.extend(predicted.cpu().numpy())\n",
    "            \n",
    "            # If outputs contain probabilities, collect them for ROC AUC\n",
    "            if outputs.size(1) > 1:  # Check if it's not binary classification\n",
    "                probabilities = torch.nn.functional.softmax(outputs, dim=1)[:, 1]\n",
    "            else:\n",
    "                probabilities = torch.sigmoid(outputs)\n",
    "            all_probabilities.extend(probabilities.cpu().numpy())\n",
    "\n",
    "            total += labels.size(0)\n",
    "            correct += (predicted == labels).sum().item()\n",
    "\n",
    "    accuracy = 100 * correct / total\n",
    "    precision = precision_score(all_labels, all_predictions, average='binary')\n",
    "    f1 = f1_score(all_labels, all_predictions, average='binary')\n",
    "    roc_auc = roc_auc_score(all_labels, all_probabilities)\n",
    "\n",
    "    print(f'Accuracy: {accuracy:.2f}%')\n",
    "    print(f'Precision: {precision:.2f}')\n",
    "    print(f'F1 Score: {f1:.2f}')\n",
    "    print(f'ROC AUC: {roc_auc:.2f}')"
   ]
  },
  {
   "cell_type": "code",
   "execution_count": 24,
   "metadata": {},
   "outputs": [
    {
     "name": "stdout",
     "output_type": "stream",
     "text": [
      "Accuracy: 99.12%\n",
      "Precision: 0.98\n",
      "F1 Score: 0.99\n",
      "ROC AUC: 1.00\n"
     ]
    }
   ],
   "source": [
    "evaluate_model(model, test_loader, device)"
   ]
  }
 ],
 "metadata": {
  "kernelspec": {
   "display_name": "base",
   "language": "python",
   "name": "python3"
  },
  "language_info": {
   "codemirror_mode": {
    "name": "ipython",
    "version": 3
   },
   "file_extension": ".py",
   "mimetype": "text/x-python",
   "name": "python",
   "nbconvert_exporter": "python",
   "pygments_lexer": "ipython3",
   "version": "3.11.5"
  }
 },
 "nbformat": 4,
 "nbformat_minor": 2
}
